{
 "cells": [
  {
   "cell_type": "code",
   "execution_count": 1,
   "metadata": {},
   "outputs": [
    {
     "name": "stderr",
     "output_type": "stream",
     "text": [
      "Using TensorFlow backend.\n"
     ]
    }
   ],
   "source": [
    "import pandas as pd\n",
    "import numpy as np\n",
    "from numpy import array\n",
    "from keras.models import Sequential\n",
    "from keras.layers import LSTM, Dropout\n",
    "from keras.layers import Dense"
   ]
  },
  {
   "cell_type": "markdown",
   "metadata": {},
   "source": [
    "## Reading Data"
   ]
  },
  {
   "cell_type": "code",
   "execution_count": 2,
   "metadata": {},
   "outputs": [
    {
     "data": {
      "text/html": [
       "<div>\n",
       "<style scoped>\n",
       "    .dataframe tbody tr th:only-of-type {\n",
       "        vertical-align: middle;\n",
       "    }\n",
       "\n",
       "    .dataframe tbody tr th {\n",
       "        vertical-align: top;\n",
       "    }\n",
       "\n",
       "    .dataframe thead th {\n",
       "        text-align: right;\n",
       "    }\n",
       "</style>\n",
       "<table border=\"1\" class=\"dataframe\">\n",
       "  <thead>\n",
       "    <tr style=\"text-align: right;\">\n",
       "      <th>1</th>\n",
       "      <th>Generic Product</th>\n",
       "      <th>Generic Group variable</th>\n",
       "      <th>Generic_Variable</th>\n",
       "      <th>Generic_LookupKey</th>\n",
       "      <th>2016-04-01 00:00:00</th>\n",
       "      <th>2016-05-01 00:00:00</th>\n",
       "      <th>2016-06-01 00:00:00</th>\n",
       "      <th>2016-07-01 00:00:00</th>\n",
       "      <th>2016-08-01 00:00:00</th>\n",
       "      <th>2016-09-01 00:00:00</th>\n",
       "      <th>...</th>\n",
       "      <th>2019-06-01 00:00:00</th>\n",
       "      <th>2019-07-01 00:00:00</th>\n",
       "      <th>2019-08-01 00:00:00</th>\n",
       "      <th>2019-09-01 00:00:00</th>\n",
       "      <th>2019-10-01 00:00:00</th>\n",
       "      <th>2019-11-01 00:00:00</th>\n",
       "      <th>2019-12-01 00:00:00</th>\n",
       "      <th>2020-01-01 00:00:00</th>\n",
       "      <th>2020-02-01 00:00:00</th>\n",
       "      <th>2020-03-01 00:00:00</th>\n",
       "    </tr>\n",
       "  </thead>\n",
       "  <tbody>\n",
       "    <tr>\n",
       "      <th>9</th>\n",
       "      <td>Panther - Leopard - Lion</td>\n",
       "      <td>Revenue</td>\n",
       "      <td>Total Revenue</td>\n",
       "      <td>Segment 1 - Sandesh Brand 2Sandesh Brand 2Mobi...</td>\n",
       "      <td>-1.96432</td>\n",
       "      <td>-1.89887</td>\n",
       "      <td>-1.8643</td>\n",
       "      <td>-1.72079</td>\n",
       "      <td>-1.67049</td>\n",
       "      <td>-1.44222</td>\n",
       "      <td>...</td>\n",
       "      <td>0.903317</td>\n",
       "      <td>1.05569</td>\n",
       "      <td>1.08673</td>\n",
       "      <td>1.09002</td>\n",
       "      <td>x</td>\n",
       "      <td>x</td>\n",
       "      <td>x</td>\n",
       "      <td>x</td>\n",
       "      <td>x</td>\n",
       "      <td>x</td>\n",
       "    </tr>\n",
       "  </tbody>\n",
       "</table>\n",
       "<p>1 rows × 52 columns</p>\n",
       "</div>"
      ],
      "text/plain": [
       "1          Generic Product  Generic Group variable Generic_Variable  \\\n",
       "9  Panther - Leopard - Lion                Revenue    Total Revenue   \n",
       "\n",
       "1                                  Generic_LookupKey 2016-04-01 00:00:00  \\\n",
       "9  Segment 1 - Sandesh Brand 2Sandesh Brand 2Mobi...            -1.96432   \n",
       "\n",
       "1 2016-05-01 00:00:00 2016-06-01 00:00:00 2016-07-01 00:00:00  \\\n",
       "9            -1.89887             -1.8643            -1.72079   \n",
       "\n",
       "1 2016-08-01 00:00:00 2016-09-01 00:00:00  ... 2019-06-01 00:00:00  \\\n",
       "9            -1.67049            -1.44222  ...            0.903317   \n",
       "\n",
       "1 2019-07-01 00:00:00 2019-08-01 00:00:00 2019-09-01 00:00:00  \\\n",
       "9             1.05569             1.08673             1.09002   \n",
       "\n",
       "1 2019-10-01 00:00:00 2019-11-01 00:00:00 2019-12-01 00:00:00  \\\n",
       "9                   x                   x                   x   \n",
       "\n",
       "1 2020-01-01 00:00:00 2020-02-01 00:00:00 2020-03-01 00:00:00  \n",
       "9                   x                   x                   x  \n",
       "\n",
       "[1 rows x 52 columns]"
      ]
     },
     "execution_count": 2,
     "metadata": {},
     "output_type": "execute_result"
    }
   ],
   "source": [
    "df = pd.read_excel('PrivatizedDataforParticipants.xlsx')\n",
    "new_header = df.iloc[1] #grab the first row for the header\n",
    "df = df[2:] #take the data less the header row\n",
    "df.columns = new_header #set the header row as the df header\n",
    "df2 = df.drop(['Generic Group','Generic Brand','Generic Product Category','Generic Sub-Variable','Units'],axis=1)\n",
    "df2 = df2.rename(columns={'Generic LookupKey': 'Generic_LookupKey', 'Generic Variable': 'Generic_Variable'})\n",
    "df2.reset_index(inplace = True, drop = True)\n",
    "\n",
    "df2 = df2[df2.Generic_Variable == 'Total Revenue']\n",
    "df2.head()"
   ]
  },
  {
   "cell_type": "markdown",
   "metadata": {},
   "source": [
    "## Helper Functions"
   ]
  },
  {
   "cell_type": "code",
   "execution_count": 3,
   "metadata": {},
   "outputs": [],
   "source": [
    "# split a univariate sequence\n",
    "def split_sequence(sequence, n_steps):\n",
    "\tX, y = list(), list()\n",
    "\tfor i in range(len(sequence)):\n",
    "\t\t# find the end of this pattern\n",
    "\t\tend_ix = i + n_steps\n",
    "\t\t# check if we are beyond the sequence\n",
    "\t\tif end_ix > len(sequence)-1:\n",
    "\t\t\tbreak\n",
    "\t\t# gather input and output parts of the pattern\n",
    "\t\tseq_x, seq_y = sequence[i:end_ix], sequence[end_ix]\n",
    "\t\tX.append(seq_x)\n",
    "\t\ty.append(seq_y)\n",
    "\treturn array(X), array(y)\n",
    "\n",
    "def forecast_accuracy(forecast, actual):\n",
    "    mape = np.mean(np.abs(forecast - actual)/np.abs(actual))  # MAPE\n",
    "    me = np.mean(forecast - actual)             # ME\n",
    "    mae = np.mean(np.abs(forecast - actual))    # MAE\n",
    "    mpe = np.mean((forecast - actual)/actual)   # MPE\n",
    "    rmse = np.mean((forecast - actual)**2)**.5  # RMSE\n",
    "    return({'mape':mape, 'me':me, 'mae': mae, \n",
    "            'mpe': mpe, 'rmse':rmse})"
   ]
  },
  {
   "cell_type": "markdown",
   "metadata": {},
   "source": [
    "## Total Revenue"
   ]
  },
  {
   "cell_type": "code",
   "execution_count": 4,
   "metadata": {},
   "outputs": [
    {
     "data": {
      "text/html": [
       "<div>\n",
       "<style scoped>\n",
       "    .dataframe tbody tr th:only-of-type {\n",
       "        vertical-align: middle;\n",
       "    }\n",
       "\n",
       "    .dataframe tbody tr th {\n",
       "        vertical-align: top;\n",
       "    }\n",
       "\n",
       "    .dataframe thead th {\n",
       "        text-align: right;\n",
       "    }\n",
       "</style>\n",
       "<table border=\"1\" class=\"dataframe\">\n",
       "  <thead>\n",
       "    <tr style=\"text-align: right;\">\n",
       "      <th>1</th>\n",
       "      <th>Generic Product</th>\n",
       "      <th>Generic Group variable</th>\n",
       "      <th>Generic_Variable</th>\n",
       "      <th>Generic_LookupKey</th>\n",
       "      <th>2016-04-01 00:00:00</th>\n",
       "      <th>2016-05-01 00:00:00</th>\n",
       "      <th>2016-06-01 00:00:00</th>\n",
       "      <th>2016-07-01 00:00:00</th>\n",
       "      <th>2016-08-01 00:00:00</th>\n",
       "      <th>2016-09-01 00:00:00</th>\n",
       "      <th>...</th>\n",
       "      <th>2019-06-01 00:00:00</th>\n",
       "      <th>2019-07-01 00:00:00</th>\n",
       "      <th>2019-08-01 00:00:00</th>\n",
       "      <th>2019-09-01 00:00:00</th>\n",
       "      <th>2019-10-01 00:00:00</th>\n",
       "      <th>2019-11-01 00:00:00</th>\n",
       "      <th>2019-12-01 00:00:00</th>\n",
       "      <th>2020-01-01 00:00:00</th>\n",
       "      <th>2020-02-01 00:00:00</th>\n",
       "      <th>2020-03-01 00:00:00</th>\n",
       "    </tr>\n",
       "  </thead>\n",
       "  <tbody>\n",
       "    <tr>\n",
       "      <th>9</th>\n",
       "      <td>Panther - Leopard - Lion</td>\n",
       "      <td>Revenue</td>\n",
       "      <td>Total Revenue</td>\n",
       "      <td>Segment 1 - Sandesh Brand 2Sandesh Brand 2Mobi...</td>\n",
       "      <td>-1.96432</td>\n",
       "      <td>-1.89887</td>\n",
       "      <td>-1.8643</td>\n",
       "      <td>-1.72079</td>\n",
       "      <td>-1.67049</td>\n",
       "      <td>-1.44222</td>\n",
       "      <td>...</td>\n",
       "      <td>0.903317</td>\n",
       "      <td>1.05569</td>\n",
       "      <td>1.08673</td>\n",
       "      <td>1.09002</td>\n",
       "      <td>x</td>\n",
       "      <td>x</td>\n",
       "      <td>x</td>\n",
       "      <td>x</td>\n",
       "      <td>x</td>\n",
       "      <td>x</td>\n",
       "    </tr>\n",
       "  </tbody>\n",
       "</table>\n",
       "<p>1 rows × 52 columns</p>\n",
       "</div>"
      ],
      "text/plain": [
       "1          Generic Product  Generic Group variable Generic_Variable  \\\n",
       "9  Panther - Leopard - Lion                Revenue    Total Revenue   \n",
       "\n",
       "1                                  Generic_LookupKey 2016-04-01 00:00:00  \\\n",
       "9  Segment 1 - Sandesh Brand 2Sandesh Brand 2Mobi...            -1.96432   \n",
       "\n",
       "1 2016-05-01 00:00:00 2016-06-01 00:00:00 2016-07-01 00:00:00  \\\n",
       "9            -1.89887             -1.8643            -1.72079   \n",
       "\n",
       "1 2016-08-01 00:00:00 2016-09-01 00:00:00  ... 2019-06-01 00:00:00  \\\n",
       "9            -1.67049            -1.44222  ...            0.903317   \n",
       "\n",
       "1 2019-07-01 00:00:00 2019-08-01 00:00:00 2019-09-01 00:00:00  \\\n",
       "9             1.05569             1.08673             1.09002   \n",
       "\n",
       "1 2019-10-01 00:00:00 2019-11-01 00:00:00 2019-12-01 00:00:00  \\\n",
       "9                   x                   x                   x   \n",
       "\n",
       "1 2020-01-01 00:00:00 2020-02-01 00:00:00 2020-03-01 00:00:00  \n",
       "9                   x                   x                   x  \n",
       "\n",
       "[1 rows x 52 columns]"
      ]
     },
     "execution_count": 4,
     "metadata": {},
     "output_type": "execute_result"
    }
   ],
   "source": [
    "df3 = df2.iloc[0:1,:]\n",
    "df3.head()"
   ]
  },
  {
   "cell_type": "code",
   "execution_count": 5,
   "metadata": {},
   "outputs": [],
   "source": [
    "df3 = df3.iloc[:, 10:46]\n",
    "df3 = df3.melt(var_name=\"Month\", value_name=\"Value\")"
   ]
  },
  {
   "cell_type": "code",
   "execution_count": 6,
   "metadata": {},
   "outputs": [
    {
     "data": {
      "text/plain": [
       "<keras.callbacks.callbacks.History at 0x14516ec50>"
      ]
     },
     "execution_count": 6,
     "metadata": {},
     "output_type": "execute_result"
    }
   ],
   "source": [
    "raw_seq = np.asarray(df3.Value)\n",
    "# choose a number of time steps\n",
    "n_steps = 19\n",
    "# split into samples\n",
    "X, y = split_sequence(raw_seq, n_steps)\n",
    "# reshape from [samples, timesteps] into [samples, timesteps, features]\n",
    "n_features = 1\n",
    "X = X.reshape((X.shape[0], X.shape[1], n_features))\n",
    "# define model\n",
    "model = Sequential()\n",
    "model.add(LSTM(110, activation='relu', return_sequences=True, input_shape=(n_steps, n_features)))\n",
    "model.add(Dropout(0.2))\n",
    "model.add(LSTM(110, activation='relu', return_sequences=True, input_shape=(n_steps, n_features)))\n",
    "model.add(Dropout(0.2))\n",
    "model.add(LSTM(110, activation='relu'))\n",
    "model.add(Dropout(0.2))\n",
    "model.add(Dense(1))\n",
    "model.compile(optimizer='adam', loss='mape')\n",
    "# fit model\n",
    "model.fit(X, y, epochs=200, verbose=0)"
   ]
  },
  {
   "cell_type": "code",
   "execution_count": 12,
   "metadata": {},
   "outputs": [
    {
     "name": "stdout",
     "output_type": "stream",
     "text": [
      "[0.33479336, 0.35369086, 0.3783667, 0.4089336, 0.44475213, 0.4853277, 0.5300246, 0.57865, 0.6304716, 0.6850188, 0.7400075, 0.79793674, 0.85792273, 0.9178598, 0.9806008, 1.0402368, 1.1003687] [0.36631410728412644 0.3266383901143087 0.43425186407642236\n",
      " 0.42452153509961077 0.4390333493552168 0.5527755555833955\n",
      " 0.5201774292539691 0.6508009734609722 0.6426546769034288\n",
      " 0.5364196170649654 0.9273668443224474 0.7795443989356905\n",
      " 0.9187934978030785 0.9033173407388989 1.055693645451505 1.086731288919\n",
      " 1.0900180177886272] 17 17\n"
     ]
    }
   ],
   "source": [
    "fc = []\n",
    "for arr in X:\n",
    "    x_input = []\n",
    "    for i in arr:\n",
    "        x_input.append(i[0])\n",
    "    x_input = np.asarray(x_input)\n",
    "    x_input = x_input.reshape((1, n_steps, n_features))\n",
    "    yhat = model.predict(x_input, verbose=0)\n",
    "    fc.append(yhat[0][0])\n",
    "actual = np.asarray(df3.Value)[n_steps:]\n",
    "print(fc,actual,len(fc),len(actual))"
   ]
  },
  {
   "cell_type": "code",
   "execution_count": 13,
   "metadata": {},
   "outputs": [
    {
     "data": {
      "text/plain": [
       "{'mape': 0.07802851474527313,\n",
       " 'me': -0.022946476316881577,\n",
       " 'mae': 0.050535074047779585,\n",
       " 'mpe': -0.026147807283621902,\n",
       " 'rmse': 0.07049098972288967}"
      ]
     },
     "execution_count": 13,
     "metadata": {},
     "output_type": "execute_result"
    }
   ],
   "source": [
    "forecast_accuracy(fc,actual)"
   ]
  },
  {
   "cell_type": "code",
   "execution_count": 14,
   "metadata": {},
   "outputs": [
    {
     "data": {
      "text/html": [
       "<div>\n",
       "<style scoped>\n",
       "    .dataframe tbody tr th:only-of-type {\n",
       "        vertical-align: middle;\n",
       "    }\n",
       "\n",
       "    .dataframe tbody tr th {\n",
       "        vertical-align: top;\n",
       "    }\n",
       "\n",
       "    .dataframe thead th {\n",
       "        text-align: right;\n",
       "    }\n",
       "</style>\n",
       "<table border=\"1\" class=\"dataframe\">\n",
       "  <thead>\n",
       "    <tr style=\"text-align: right;\">\n",
       "      <th>1</th>\n",
       "      <th>Generic Product</th>\n",
       "      <th>Generic Group variable</th>\n",
       "      <th>Generic_Variable</th>\n",
       "      <th>Generic_LookupKey</th>\n",
       "      <th>2016-04-01 00:00:00</th>\n",
       "      <th>2016-05-01 00:00:00</th>\n",
       "      <th>2016-06-01 00:00:00</th>\n",
       "      <th>2016-07-01 00:00:00</th>\n",
       "      <th>2016-08-01 00:00:00</th>\n",
       "      <th>2016-09-01 00:00:00</th>\n",
       "      <th>...</th>\n",
       "      <th>2019-06-01 00:00:00</th>\n",
       "      <th>2019-07-01 00:00:00</th>\n",
       "      <th>2019-08-01 00:00:00</th>\n",
       "      <th>2019-09-01 00:00:00</th>\n",
       "      <th>2019-10-01 00:00:00</th>\n",
       "      <th>2019-11-01 00:00:00</th>\n",
       "      <th>2019-12-01 00:00:00</th>\n",
       "      <th>2020-01-01 00:00:00</th>\n",
       "      <th>2020-02-01 00:00:00</th>\n",
       "      <th>2020-03-01 00:00:00</th>\n",
       "    </tr>\n",
       "  </thead>\n",
       "  <tbody>\n",
       "    <tr>\n",
       "      <th>9</th>\n",
       "      <td>Panther - Leopard - Lion</td>\n",
       "      <td>Revenue</td>\n",
       "      <td>Total Revenue</td>\n",
       "      <td>Segment 1 - Sandesh Brand 2Sandesh Brand 2Mobi...</td>\n",
       "      <td>-1.96432</td>\n",
       "      <td>-1.89887</td>\n",
       "      <td>-1.8643</td>\n",
       "      <td>-1.72079</td>\n",
       "      <td>-1.67049</td>\n",
       "      <td>-1.44222</td>\n",
       "      <td>...</td>\n",
       "      <td>0.903317</td>\n",
       "      <td>1.05569</td>\n",
       "      <td>1.08673</td>\n",
       "      <td>1.09002</td>\n",
       "      <td>1.168814</td>\n",
       "      <td>1.22378</td>\n",
       "      <td>1.28948</td>\n",
       "      <td>1.34959</td>\n",
       "      <td>1.41555</td>\n",
       "      <td>1.47998</td>\n",
       "    </tr>\n",
       "  </tbody>\n",
       "</table>\n",
       "<p>1 rows × 52 columns</p>\n",
       "</div>"
      ],
      "text/plain": [
       "1          Generic Product  Generic Group variable Generic_Variable  \\\n",
       "9  Panther - Leopard - Lion                Revenue    Total Revenue   \n",
       "\n",
       "1                                  Generic_LookupKey 2016-04-01 00:00:00  \\\n",
       "9  Segment 1 - Sandesh Brand 2Sandesh Brand 2Mobi...            -1.96432   \n",
       "\n",
       "1 2016-05-01 00:00:00 2016-06-01 00:00:00 2016-07-01 00:00:00  \\\n",
       "9            -1.89887             -1.8643            -1.72079   \n",
       "\n",
       "1 2016-08-01 00:00:00 2016-09-01 00:00:00  ... 2019-06-01 00:00:00  \\\n",
       "9            -1.67049            -1.44222  ...            0.903317   \n",
       "\n",
       "1 2019-07-01 00:00:00 2019-08-01 00:00:00 2019-09-01 00:00:00  \\\n",
       "9             1.05569             1.08673             1.09002   \n",
       "\n",
       "1 2019-10-01 00:00:00 2019-11-01 00:00:00 2019-12-01 00:00:00  \\\n",
       "9            1.168814             1.22378             1.28948   \n",
       "\n",
       "1 2020-01-01 00:00:00 2020-02-01 00:00:00 2020-03-01 00:00:00  \n",
       "9             1.34959             1.41555             1.47998  \n",
       "\n",
       "[1 rows x 52 columns]"
      ]
     },
     "execution_count": 14,
     "metadata": {},
     "output_type": "execute_result"
    }
   ],
   "source": [
    "df4 = df2.iloc[0:1,:]\n",
    "for i in range(0,6):\n",
    "    x_input = df4.iloc[:,i+46-n_steps:i+46].values.tolist()[0]\n",
    "    x_input = np.asarray(x_input)\n",
    "    x_input = x_input.reshape((1, n_steps, n_features))\n",
    "    yhat = model.predict(x_input, verbose=0)\n",
    "    df4.iloc[:,i+46] = yhat[0][0]\n",
    "df4"
   ]
  },
  {
   "cell_type": "code",
   "execution_count": null,
   "metadata": {},
   "outputs": [],
   "source": []
  }
 ],
 "metadata": {
  "kernelspec": {
   "display_name": "Python 3",
   "language": "python",
   "name": "python3"
  },
  "language_info": {
   "codemirror_mode": {
    "name": "ipython",
    "version": 3
   },
   "file_extension": ".py",
   "mimetype": "text/x-python",
   "name": "python",
   "nbconvert_exporter": "python",
   "pygments_lexer": "ipython3",
   "version": "3.7.7"
  }
 },
 "nbformat": 4,
 "nbformat_minor": 4
}
